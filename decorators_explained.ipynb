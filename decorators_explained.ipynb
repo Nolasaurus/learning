{
 "cells": [
  {
   "cell_type": "markdown",
   "id": "b9546b3d",
   "metadata": {},
   "source": [
    "#### Understanding Decorators in Python 🌟\n",
    "\n",
    "Decorators are a powerful feature in Python that allow for modifying the behavior of functions or methods. They are essentially functions that take another function as an argument and return a new function, enhancing or changing the original function's behavior without permanently modifying it."
   ]
  },
  {
   "cell_type": "code",
   "execution_count": null,
   "id": "786411f3",
   "metadata": {},
   "outputs": [],
   "source": [
    "# Demonstrating that functions can be passed as arguments\n",
    "\n",
    "def welcome(name):\n",
    "    return f'Welcome, {name}!'\n",
    "\n",
    "def shout(fun, name):\n",
    "    return fun(name).upper() + ' HOORAY!'\n",
    "    \n",
    "print(shout(welcome, 'Alice'))"
   ]
  },
  {
   "cell_type": "code",
   "execution_count": null,
   "id": "6da0075f",
   "metadata": {},
   "outputs": [],
   "source": [
    "def simple_decorator(func):\n",
    "    def inner():\n",
    "        print(\"Before the function call\")\n",
    "        func()\n",
    "        print(\"After the function call\")\n",
    "    return inner\n",
    "\n",
    "def say_hello():\n",
    "    print(\"Hello, there!\")\n",
    "\n",
    "say_hello = simple_decorator(say_hello)\n",
    "say_hello()"
   ]
  },
  {
   "cell_type": "code",
   "execution_count": null,
   "id": "11416489",
   "metadata": {},
   "outputs": [],
   "source": [
    "def simple_decorator(func):\n",
    "    def inner(name):\n",
    "        print(\"Before the function call\")\n",
    "        func(name)\n",
    "        print(\"After the function call\")\n",
    "    return inner\n",
    "\n",
    "@simple_decorator\n",
    "def greet(name):\n",
    "    print(f\"Welcome, {name}!\")\n",
    "\n",
    "greet('Bob')"
   ]
  },
  {
   "cell_type": "code",
   "execution_count": null,
   "id": "bcfa307d",
   "metadata": {},
   "outputs": [],
   "source": [
    "import time\n",
    "\n",
    "def timing_decorator(function):\n",
    "    def wrapped(*args, **kwargs):\n",
    "        start = time.time()\n",
    "        result = function(*args, **kwargs)\n",
    "        end = time.time()\n",
    "        print(f\"{function.__name__} took {end-start} seconds to execute\")\n",
    "        return result\n",
    "    return wrapped\n",
    "\n",
    "@timing_decorator\n",
    "def compute_factorial(n):\n",
    "    if n == 0:\n",
    "        return 1\n",
    "    else:\n",
    "        return n * compute_factorial(n-1)\n",
    "\n",
    "print(compute_factorial(5))"
   ]
  }
 ],
 "metadata": {},
 "nbformat": 4,
 "nbformat_minor": 5
}
